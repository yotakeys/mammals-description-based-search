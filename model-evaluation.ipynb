{
 "cells": [
  {
   "cell_type": "code",
   "execution_count": 58,
   "metadata": {},
   "outputs": [],
   "source": [
    "import os\n",
    "import openai\n",
    "import pandas as pd\n",
    "from sentence_transformers import SentenceTransformer\n",
    "import faiss\n",
    "import numpy as np\n",
    "import os\n",
    "from tqdm import tqdm"
   ]
  },
  {
   "cell_type": "code",
   "execution_count": 59,
   "metadata": {},
   "outputs": [],
   "source": [
    "OPENAI_TOKEN = os.getenv('OPENAI_TOKEN')"
   ]
  },
  {
   "cell_type": "code",
   "execution_count": 60,
   "metadata": {},
   "outputs": [],
   "source": [
    "OPENAI_TOKEN\n",
    "openai.api_key = OPENAI_TOKEN"
   ]
  },
  {
   "cell_type": "code",
   "execution_count": 61,
   "metadata": {},
   "outputs": [],
   "source": [
    "file_path = 'data/raw/query_test.txt'\n",
    "query_test  = []\n",
    "\n",
    "with open(file_path, 'r') as file:\n",
    "        # Read each line and append to the list\n",
    "        for line in file:\n",
    "            query_test.append(line.strip()) "
   ]
  },
  {
   "cell_type": "code",
   "execution_count": 62,
   "metadata": {},
   "outputs": [
    {
     "data": {
      "text/plain": [
       "['Mammals that reside in the deepest parts of the ocean.',\n",
       " 'Mammals that navigate using echolocation.',\n",
       " 'Mammals that possess the ability to glide between trees.',\n",
       " 'Mammals that exhibit hibernation during winter months.',\n",
       " 'Mammals that are primarily nocturnal hunters.',\n",
       " 'Mammals that form complex social structures within their groups.',\n",
       " 'Mammals that burrow underground for shelter.',\n",
       " 'Mammals that inhabit the densest rainforests.',\n",
       " 'Mammals that have adapted to extreme cold climates.',\n",
       " 'Mammals that communicate through a sophisticated system of calls.',\n",
       " 'Mammals that use tools for various tasks.',\n",
       " 'Mammals that have a keen sense of smell for foraging.',\n",
       " 'Mammals that possess fur adapted for camouflage in snow.',\n",
       " 'Mammals that can leap great distances.',\n",
       " 'Mammals that rely on communal nesting.',\n",
       " 'Mammals that possess a prehensile tail for gripping objects.',\n",
       " 'Mammals that live in burrows dug into the ground.',\n",
       " 'Mammals that are known for their migratory patterns.',\n",
       " 'Mammals that display cooperative hunting behavior.',\n",
       " 'Mammals that build intricate dams in rivers.',\n",
       " 'Mammals that have adapted to high altitudes.',\n",
       " 'Mammals that exhibit unique courtship rituals.',\n",
       " 'Mammals that have pouches to carry their young.',\n",
       " 'Mammals that are excellent climbers in rocky terrain.',\n",
       " 'Mammals that possess a highly acute sense of hearing.',\n",
       " 'Mammals that use their tail for balance during tree-climbing.',\n",
       " 'Mammals that thrive in savannah grasslands.',\n",
       " 'Mammals that have elongated necks for reaching leaves in trees.',\n",
       " 'Mammals that are skilled at burrowing through sand.',\n",
       " 'Mammals that exhibit parental care through nursing.',\n",
       " 'Mammals that have adapted to arid desert conditions.',\n",
       " 'Mammals that swim swiftly in fast-flowing rivers.',\n",
       " 'Mammals that hunt in packs, exhibiting cooperative behavior.',\n",
       " 'Mammals that possess a thick fur coat for insulation.',\n",
       " 'Mammals that construct intricate tunnels underground.',\n",
       " 'Mammals that have remarkable memory and problem-solving skills.',\n",
       " 'Mammals that are skilled at navigating through dense forests.',\n",
       " 'Mammals that demonstrate remarkable agility in trees.',\n",
       " 'Mammals that utilize vocalizations for intricate communication.',\n",
       " 'Mammals that display unique markings for camouflage.',\n",
       " 'Mammals that excel in sprinting across open plains.',\n",
       " 'Mammals that have adapted to life in mangrove swamps.',\n",
       " 'Mammals that utilize scent marking for territorial display.',\n",
       " 'Mammals that possess the ability to regenerate damaged tissue.',\n",
       " 'Mammals that construct elaborate nests in tree canopies.',\n",
       " 'Mammals that exhibit rapid adaptation to changing environments.',\n",
       " 'Mammals that thrive in densely populated urban areas.',\n",
       " 'Mammals that have specialized diets consisting of insects.',\n",
       " 'Mammals that are known for their powerful digging abilities.',\n",
       " 'Mammals that have evolved to blend seamlessly with their surroundings.']"
      ]
     },
     "execution_count": 62,
     "metadata": {},
     "output_type": "execute_result"
    }
   ],
   "source": [
    "query_test"
   ]
  },
  {
   "cell_type": "code",
   "execution_count": 63,
   "metadata": {},
   "outputs": [],
   "source": [
    "RAW_DATA_PATH = os.path.join(\"data\", \"raw\")\n",
    "PROCESSED_DATA_PATH = os.path.join(\"data\", \"processed\")"
   ]
  },
  {
   "cell_type": "code",
   "execution_count": 64,
   "metadata": {},
   "outputs": [],
   "source": [
    "data = pd.read_csv(os.path.join(PROCESSED_DATA_PATH, \"data.csv\"))\n",
    "model = SentenceTransformer('model/')\n",
    "index = faiss.read_index('mammals.index')"
   ]
  },
  {
   "cell_type": "code",
   "execution_count": 65,
   "metadata": {},
   "outputs": [],
   "source": [
    "# define function to return top_k mammals dictionary based query\n",
    "\n",
    "def fetch_mammals(dataframe_idx):\n",
    "    info = data.iloc[dataframe_idx]\n",
    "    meta = dict()\n",
    "    meta['organism_name'] = info['organism_name']\n",
    "    return meta\n",
    "\n",
    "\n",
    "def search(query, top_k, index, model):\n",
    "    query_vector = model.encode([query])\n",
    "    top_k = index.search(query_vector, top_k)\n",
    "    result_id = top_k[1].tolist()[0]\n",
    "    result_id = list(np.unique(result_id))\n",
    "    results = [fetch_mammals(idx) for idx in result_id]\n",
    "    return results\n",
    "\n"
   ]
  },
  {
   "cell_type": "code",
   "execution_count": 66,
   "metadata": {},
   "outputs": [
    {
     "name": "stderr",
     "output_type": "stream",
     "text": [
      "100%|██████████| 50/50 [01:28<00:00,  1.77s/it]\n"
     ]
    }
   ],
   "source": [
    "top_k = 3\n",
    "test = len(query_test)\n",
    "amount = top_k * test\n",
    "right = 0\n",
    "\n",
    "\n",
    "for query in tqdm(query_test):\n",
    "    results = search(query, top_k=top_k, index=index, model=model)\n",
    "    for result in results:\n",
    "        text = result['organism_name']\n",
    "        response = openai.ChatCompletion.create(model=\"gpt-3.5-turbo\", messages=[\n",
    "            {\"role\": \"system\", \"content\": 'You are an animal mammals expert.'},\n",
    "            {\"role\": \"user\", \"content\": f'\"{text}\"\\nwhether this organism fall/include within the given description \"{query}\". answer with \"Yes\" or \"No\" only'}\n",
    "        ], max_tokens=1000)\n",
    "\n",
    "        answer = response[\"choices\"][0][\"message\"][\"content\"]\n",
    "        isMammals = 'yes' in answer.lower()\n",
    "        \n",
    "        if isMammals:\n",
    "            right += 1"
   ]
  },
  {
   "cell_type": "code",
   "execution_count": 67,
   "metadata": {},
   "outputs": [
    {
     "data": {
      "text/plain": [
       "70.0"
      ]
     },
     "execution_count": 67,
     "metadata": {},
     "output_type": "execute_result"
    }
   ],
   "source": [
    "right/amount * 100"
   ]
  },
  {
   "cell_type": "code",
   "execution_count": null,
   "metadata": {},
   "outputs": [],
   "source": []
  }
 ],
 "metadata": {
  "kernelspec": {
   "display_name": "Python 3",
   "language": "python",
   "name": "python3"
  },
  "language_info": {
   "codemirror_mode": {
    "name": "ipython",
    "version": 3
   },
   "file_extension": ".py",
   "mimetype": "text/x-python",
   "name": "python",
   "nbconvert_exporter": "python",
   "pygments_lexer": "ipython3",
   "version": "3.8.10"
  }
 },
 "nbformat": 4,
 "nbformat_minor": 2
}
