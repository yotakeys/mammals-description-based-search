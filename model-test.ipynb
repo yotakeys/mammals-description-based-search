{
 "cells": [
  {
   "cell_type": "code",
   "execution_count": 1,
   "metadata": {},
   "outputs": [],
   "source": [
    "import  pandas as pd\n",
    "from sentence_transformers import SentenceTransformer\n",
    "import  faiss\n",
    "import numpy as np\n",
    "import os"
   ]
  },
  {
   "cell_type": "code",
   "execution_count": 2,
   "metadata": {},
   "outputs": [],
   "source": [
    "RAW_DATA_PATH = os.path.join(\"data\", \"raw\")\n",
    "PROCESSED_DATA_PATH = os.path.join(\"data\", \"processed\")"
   ]
  },
  {
   "cell_type": "code",
   "execution_count": 3,
   "metadata": {},
   "outputs": [],
   "source": [
    "data = pd.read_csv(os.path.join(PROCESSED_DATA_PATH, \"data.csv\"))\n",
    "model = SentenceTransformer('model/')\n",
    "index = faiss.read_index('mammals.index')"
   ]
  },
  {
   "cell_type": "code",
   "execution_count": 4,
   "metadata": {},
   "outputs": [],
   "source": [
    "# define function to return top_k mammals dictionary based query\n",
    "\n",
    "def fetch_mammals(dataframe_idx):\n",
    "    info = data.iloc[dataframe_idx]\n",
    "    meta = dict()\n",
    "    meta['organism_name'] = info['organism_name']\n",
    "    return meta\n",
    "    \n",
    "def search(query, top_k, index, model):\n",
    "    query_vector = model.encode([query])\n",
    "    top_k = index.search(query_vector, top_k)\n",
    "    result_id = top_k[1].tolist()[0]\n",
    "    result_id = list(np.unique(result_id))\n",
    "    results =  [fetch_mammals(idx) for idx in result_id]\n",
    "    return results"
   ]
  },
  {
   "cell_type": "code",
   "execution_count": 11,
   "metadata": {},
   "outputs": [
    {
     "name": "stdout",
     "output_type": "stream",
     "text": [
      "\n",
      "\n",
      "\t {'organism_name': 'Homo sapiens'}\n",
      "\t {'organism_name': 'Macaca fascicularis'}\n",
      "\t {'organism_name': 'Suricata suricatta'}\n",
      "\t {'organism_name': 'Papio hamadryas'}\n",
      "\t {'organism_name': 'Ctenomys sociabilis'}\n"
     ]
    }
   ],
   "source": [
    "query=\"highly social related and live in group\"\n",
    "results=search(query, top_k=5, index=index, model=model)\n",
    "print(\"\\n\")\n",
    "for result in results:\n",
    "    print('\\t',result)"
   ]
  },
  {
   "cell_type": "code",
   "execution_count": null,
   "metadata": {},
   "outputs": [],
   "source": []
  }
 ],
 "metadata": {
  "kernelspec": {
   "display_name": "Python 3",
   "language": "python",
   "name": "python3"
  },
  "language_info": {
   "codemirror_mode": {
    "name": "ipython",
    "version": 3
   },
   "file_extension": ".py",
   "mimetype": "text/x-python",
   "name": "python",
   "nbconvert_exporter": "python",
   "pygments_lexer": "ipython3",
   "version": "3.8.10"
  }
 },
 "nbformat": 4,
 "nbformat_minor": 2
}
