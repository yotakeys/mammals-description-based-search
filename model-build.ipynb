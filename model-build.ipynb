{
 "cells": [
  {
   "cell_type": "code",
   "execution_count": 1,
   "metadata": {},
   "outputs": [],
   "source": [
    "import pandas as pd\n",
    "import numpy as np\n",
    "from sentence_transformers import SentenceTransformer\n",
    "import faiss\n",
    "import time\n",
    "import os"
   ]
  },
  {
   "cell_type": "code",
   "execution_count": 2,
   "metadata": {},
   "outputs": [],
   "source": [
    "RAW_DATA_PATH = os.path.join(\"data\", \"raw\")\n",
    "PROCESSED_DATA_PATH = os.path.join(\"data\", \"processed\")"
   ]
  },
  {
   "cell_type": "code",
   "execution_count": 3,
   "metadata": {},
   "outputs": [],
   "source": [
    "data = pd.read_csv(os.path.join(PROCESSED_DATA_PATH, \"data.csv\"))"
   ]
  },
  {
   "cell_type": "code",
   "execution_count": 4,
   "metadata": {},
   "outputs": [
    {
     "data": {
      "text/html": [
       "<div>\n",
       "<style scoped>\n",
       "    .dataframe tbody tr th:only-of-type {\n",
       "        vertical-align: middle;\n",
       "    }\n",
       "\n",
       "    .dataframe tbody tr th {\n",
       "        vertical-align: top;\n",
       "    }\n",
       "\n",
       "    .dataframe thead th {\n",
       "        text-align: right;\n",
       "    }\n",
       "</style>\n",
       "<table border=\"1\" class=\"dataframe\">\n",
       "  <thead>\n",
       "    <tr style=\"text-align: right;\">\n",
       "      <th></th>\n",
       "      <th>organism_name</th>\n",
       "      <th>description</th>\n",
       "    </tr>\n",
       "  </thead>\n",
       "  <tbody>\n",
       "    <tr>\n",
       "      <th>0</th>\n",
       "      <td>Homo sapiens</td>\n",
       "      <td>Homo sapiens, also known as modern humans, are...</td>\n",
       "    </tr>\n",
       "    <tr>\n",
       "      <th>1</th>\n",
       "      <td>Mus musculus</td>\n",
       "      <td>Mus musculus, commonly known as the house mous...</td>\n",
       "    </tr>\n",
       "    <tr>\n",
       "      <th>2</th>\n",
       "      <td>Bubalus bubalis</td>\n",
       "      <td>The Bubalus bubalis, commonly known as the Wat...</td>\n",
       "    </tr>\n",
       "    <tr>\n",
       "      <th>3</th>\n",
       "      <td>Ovis ammon polii x Ovis aries</td>\n",
       "      <td>The array \"Ovis ammon polii x Ovis aries\" refe...</td>\n",
       "    </tr>\n",
       "    <tr>\n",
       "      <th>4</th>\n",
       "      <td>Capricornis sumatraensis</td>\n",
       "      <td>Capricornis sumatraensis, commonly known as th...</td>\n",
       "    </tr>\n",
       "    <tr>\n",
       "      <th>...</th>\n",
       "      <td>...</td>\n",
       "      <td>...</td>\n",
       "    </tr>\n",
       "    <tr>\n",
       "      <th>818</th>\n",
       "      <td>Sminthopsis hirtipes</td>\n",
       "      <td>Sminthopsis hirtipes, commonly known as the ha...</td>\n",
       "    </tr>\n",
       "    <tr>\n",
       "      <th>819</th>\n",
       "      <td>Bettongia gaimardi</td>\n",
       "      <td>Bettongia gaimardi, commonly known as the East...</td>\n",
       "    </tr>\n",
       "    <tr>\n",
       "      <th>820</th>\n",
       "      <td>Caluromys derbianus</td>\n",
       "      <td>Caluromys derbianus, commonly known as Derby's...</td>\n",
       "    </tr>\n",
       "    <tr>\n",
       "      <th>821</th>\n",
       "      <td>Potorous longipes</td>\n",
       "      <td>Potorous longipes, commonly known as the Longf...</td>\n",
       "    </tr>\n",
       "    <tr>\n",
       "      <th>822</th>\n",
       "      <td>Parantechinus apicalis</td>\n",
       "      <td>Parantechinus apicalis is a species of mammal ...</td>\n",
       "    </tr>\n",
       "  </tbody>\n",
       "</table>\n",
       "<p>823 rows × 2 columns</p>\n",
       "</div>"
      ],
      "text/plain": [
       "                     organism_name  \\\n",
       "0                     Homo sapiens   \n",
       "1                     Mus musculus   \n",
       "2                  Bubalus bubalis   \n",
       "3    Ovis ammon polii x Ovis aries   \n",
       "4         Capricornis sumatraensis   \n",
       "..                             ...   \n",
       "818           Sminthopsis hirtipes   \n",
       "819             Bettongia gaimardi   \n",
       "820            Caluromys derbianus   \n",
       "821              Potorous longipes   \n",
       "822         Parantechinus apicalis   \n",
       "\n",
       "                                           description  \n",
       "0    Homo sapiens, also known as modern humans, are...  \n",
       "1    Mus musculus, commonly known as the house mous...  \n",
       "2    The Bubalus bubalis, commonly known as the Wat...  \n",
       "3    The array \"Ovis ammon polii x Ovis aries\" refe...  \n",
       "4    Capricornis sumatraensis, commonly known as th...  \n",
       "..                                                 ...  \n",
       "818  Sminthopsis hirtipes, commonly known as the ha...  \n",
       "819  Bettongia gaimardi, commonly known as the East...  \n",
       "820  Caluromys derbianus, commonly known as Derby's...  \n",
       "821  Potorous longipes, commonly known as the Longf...  \n",
       "822  Parantechinus apicalis is a species of mammal ...  \n",
       "\n",
       "[823 rows x 2 columns]"
      ]
     },
     "execution_count": 4,
     "metadata": {},
     "output_type": "execute_result"
    }
   ],
   "source": [
    "data"
   ]
  },
  {
   "cell_type": "code",
   "execution_count": 5,
   "metadata": {},
   "outputs": [],
   "source": [
    "model = SentenceTransformer('all-mpnet-base-v2')"
   ]
  },
  {
   "cell_type": "code",
   "execution_count": 6,
   "metadata": {},
   "outputs": [],
   "source": [
    "encoded_data = model.encode(data.description.tolist())\n",
    "encoded_data = np.asarray(encoded_data.astype('float32'))\n",
    "index = faiss.IndexIDMap(faiss.IndexFlatIP(768))\n",
    "index.add_with_ids(encoded_data, np.array(range(0, len(data))))\n",
    "faiss.write_index(index, 'mammals.index')"
   ]
  },
  {
   "cell_type": "code",
   "execution_count": 7,
   "metadata": {},
   "outputs": [],
   "source": [
    "model.save('./model')"
   ]
  },
  {
   "cell_type": "code",
   "execution_count": 5,
   "metadata": {},
   "outputs": [],
   "source": [
    "# Load\n",
    "data = pd.read_csv(os.path.join(PROCESSED_DATA_PATH, \"data.csv\"))\n",
    "model = SentenceTransformer('model/')\n",
    "index = faiss.read_index('mammals.index')"
   ]
  },
  {
   "cell_type": "code",
   "execution_count": null,
   "metadata": {},
   "outputs": [],
   "source": []
  }
 ],
 "metadata": {
  "kernelspec": {
   "display_name": "Python 3",
   "language": "python",
   "name": "python3"
  },
  "language_info": {
   "codemirror_mode": {
    "name": "ipython",
    "version": 3
   },
   "file_extension": ".py",
   "mimetype": "text/x-python",
   "name": "python",
   "nbconvert_exporter": "python",
   "pygments_lexer": "ipython3",
   "version": "3.8.10"
  }
 },
 "nbformat": 4,
 "nbformat_minor": 2
}
