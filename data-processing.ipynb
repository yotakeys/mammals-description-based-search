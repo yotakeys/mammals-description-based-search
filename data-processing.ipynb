{
 "cells": [
  {
   "cell_type": "code",
   "execution_count": 1,
   "metadata": {},
   "outputs": [],
   "source": [
    "import pandas as pd\n",
    "import os"
   ]
  },
  {
   "cell_type": "code",
   "execution_count": 2,
   "metadata": {},
   "outputs": [],
   "source": [
    "RAW_DATA_PATH = os.path.join(\"data\", \"raw\")\n",
    "PROCESSED_DATA_PATH = os.path.join(\"data\", \"processed\")"
   ]
  },
  {
   "cell_type": "code",
   "execution_count": 3,
   "metadata": {},
   "outputs": [],
   "source": [
    "data_organism = pd.read_csv(os.path.join(RAW_DATA_PATH, \"data_mammals_desc.csv\"))"
   ]
  },
  {
   "cell_type": "code",
   "execution_count": 4,
   "metadata": {},
   "outputs": [
    {
     "data": {
      "text/html": [
       "<div>\n",
       "<style scoped>\n",
       "    .dataframe tbody tr th:only-of-type {\n",
       "        vertical-align: middle;\n",
       "    }\n",
       "\n",
       "    .dataframe tbody tr th {\n",
       "        vertical-align: top;\n",
       "    }\n",
       "\n",
       "    .dataframe thead th {\n",
       "        text-align: right;\n",
       "    }\n",
       "</style>\n",
       "<table border=\"1\" class=\"dataframe\">\n",
       "  <thead>\n",
       "    <tr style=\"text-align: right;\">\n",
       "      <th></th>\n",
       "      <th>organism_name</th>\n",
       "      <th>common_name</th>\n",
       "      <th>description</th>\n",
       "    </tr>\n",
       "  </thead>\n",
       "  <tbody>\n",
       "    <tr>\n",
       "      <th>0</th>\n",
       "      <td>Homo sapiens</td>\n",
       "      <td>human</td>\n",
       "      <td>Organisme Homo sapiens, juga dikenal sebagai m...</td>\n",
       "    </tr>\n",
       "    <tr>\n",
       "      <th>1</th>\n",
       "      <td>Mus musculus</td>\n",
       "      <td>house mouse</td>\n",
       "      <td>Mus musculus adalah nama ilmiah untuk tikus ru...</td>\n",
       "    </tr>\n",
       "    <tr>\n",
       "      <th>2</th>\n",
       "      <td>Bubalus bubalis</td>\n",
       "      <td>water buffalo</td>\n",
       "      <td>Bubalus bubalis, also known as the water buffa...</td>\n",
       "    </tr>\n",
       "    <tr>\n",
       "      <th>3</th>\n",
       "      <td>Ovis ammon polii x Ovis aries</td>\n",
       "      <td>NaN</td>\n",
       "      <td>Organisme yang disebutkan dalam array tersebut...</td>\n",
       "    </tr>\n",
       "    <tr>\n",
       "      <th>4</th>\n",
       "      <td>Capricornis sumatraensis</td>\n",
       "      <td>Sumatran serow</td>\n",
       "      <td>Capricornis sumatraensis adalah salah satu spe...</td>\n",
       "    </tr>\n",
       "    <tr>\n",
       "      <th>...</th>\n",
       "      <td>...</td>\n",
       "      <td>...</td>\n",
       "      <td>...</td>\n",
       "    </tr>\n",
       "    <tr>\n",
       "      <th>818</th>\n",
       "      <td>Sminthopsis hirtipes</td>\n",
       "      <td>hairy-footed dunnart</td>\n",
       "      <td>Sminthopsis hirtipes, commonly known as the Ha...</td>\n",
       "    </tr>\n",
       "    <tr>\n",
       "      <th>819</th>\n",
       "      <td>Bettongia gaimardi</td>\n",
       "      <td>Tasmanian bettong</td>\n",
       "      <td>Bettongia gaimardi, also known as the Eastern ...</td>\n",
       "    </tr>\n",
       "    <tr>\n",
       "      <th>820</th>\n",
       "      <td>Caluromys derbianus</td>\n",
       "      <td>Derby's woolly opossum</td>\n",
       "      <td>Caluromys derbianus, also known as Dermops mar...</td>\n",
       "    </tr>\n",
       "    <tr>\n",
       "      <th>821</th>\n",
       "      <td>Potorous longipes</td>\n",
       "      <td>long-footed potoroo</td>\n",
       "      <td>Potorous longipes, also known as the long-foot...</td>\n",
       "    </tr>\n",
       "    <tr>\n",
       "      <th>822</th>\n",
       "      <td>Parantechinus apicalis</td>\n",
       "      <td>southern dibbler</td>\n",
       "      <td>Parantechinus apicalis, also known as the stri...</td>\n",
       "    </tr>\n",
       "  </tbody>\n",
       "</table>\n",
       "<p>823 rows × 3 columns</p>\n",
       "</div>"
      ],
      "text/plain": [
       "                     organism_name             common_name  \\\n",
       "0                     Homo sapiens                   human   \n",
       "1                     Mus musculus             house mouse   \n",
       "2                  Bubalus bubalis           water buffalo   \n",
       "3    Ovis ammon polii x Ovis aries                     NaN   \n",
       "4         Capricornis sumatraensis          Sumatran serow   \n",
       "..                             ...                     ...   \n",
       "818           Sminthopsis hirtipes    hairy-footed dunnart   \n",
       "819             Bettongia gaimardi       Tasmanian bettong   \n",
       "820            Caluromys derbianus  Derby's woolly opossum   \n",
       "821              Potorous longipes     long-footed potoroo   \n",
       "822         Parantechinus apicalis        southern dibbler   \n",
       "\n",
       "                                           description  \n",
       "0    Organisme Homo sapiens, juga dikenal sebagai m...  \n",
       "1    Mus musculus adalah nama ilmiah untuk tikus ru...  \n",
       "2    Bubalus bubalis, also known as the water buffa...  \n",
       "3    Organisme yang disebutkan dalam array tersebut...  \n",
       "4    Capricornis sumatraensis adalah salah satu spe...  \n",
       "..                                                 ...  \n",
       "818  Sminthopsis hirtipes, commonly known as the Ha...  \n",
       "819  Bettongia gaimardi, also known as the Eastern ...  \n",
       "820  Caluromys derbianus, also known as Dermops mar...  \n",
       "821  Potorous longipes, also known as the long-foot...  \n",
       "822  Parantechinus apicalis, also known as the stri...  \n",
       "\n",
       "[823 rows x 3 columns]"
      ]
     },
     "execution_count": 4,
     "metadata": {},
     "output_type": "execute_result"
    }
   ],
   "source": [
    "data_organism"
   ]
  },
  {
   "cell_type": "code",
   "execution_count": 5,
   "metadata": {},
   "outputs": [
    {
     "data": {
      "text/plain": [
       "'Organisme Homo sapiens, juga dikenal sebagai manusia, adalah spesies mamalia yang paling maju secara intelektual di planet ini. Berikut adalah detail tentang organisme ini:\\n\\n1. Ciri-ciri:\\n- Perbedaan fisik antara pria dan wanita: Wanita umumnya memiliki tubuh yang lebih kecil, dengan tubuh yang lebih lembut dan payudara yang berkembang. Pria cenderung memiliki tubuh yang lebih besar dan otot yang lebih kuat.\\n- Rambut: Rambut pada kepala manusia dapat bervariasi dalam warna, tekstur, dan panjang. Manusia juga memiliki pertumbuhan rambut tubuh yang lebih halus.\\n- Jumlah anggota tubuh: Manusia memiliki dua tangan dan dua kaki, masing-masing dengan lima jari. Mereka juga memiliki kemampuan untuk berjalan tegak menggunakan dua kaki mereka.\\n- Otak yang berkembang: Salah satu ciri paling khas dari manusia adalah otak yang berkembang, yang memungkinkan kemampuan berpikir, bernyanyi, berbicara, dan berinovasi.\\n\\n2. Habitat:\\nManusia dapat menyesuaikan diri dengan berbagai habitat. Mereka tersebar di seluruh dunia dan mampu menghuni daerah terpencil seperti gurun, hutan hujan, dan gletser. Adaptasi budaya dan teknologi memungkinkan manusia untuk hidup di berbagai kondisi iklim.\\n\\n3. Tingkah laku:\\n- Komunikasi verbal: Manusia menggunakan bahasa verbal kompleks untuk berkomunikasi. Mereka juga menggunakan bahasa tubuh, ekspresi wajah, dan tanda-tanda lainnya untuk menyampaikan pesan.\\n- Sosialitas: Manusia adalah makhluk sosial yang hidup dalam kelompok-kelompok seperti keluarga, masyarakat, dan budaya. Mereka cenderung memiliki interaksi sosial yang kompleks dan membentuk hubungan emosional.\\n- Kehidupan budaya: Manusia menciptakan budaya yang unik. Mereka mengembangkan seni, musik, agama, sistem pengetahuan, teknologi, dan berbagai praktik sosial serta tradisi.\\n\\n4. Deskripsi bentuk dan ukuran:\\nManusia memiliki postur tegak sebagai ciri khasnya. Tinggi badan manusia bervariasi, rata-rata sekitar 170-180 cm untuk pria dan 160-170 cm untuk wanita. Berat badan manusia bervariasi tergantung pada faktor-faktor seperti genetika, tingkat kebugaran, dan pola makan.\\n\\n5. Hal-hal spesifik lainnya:\\n- Evolusi: Manusia adalah anggota keluarga Hominidae dan berevolusi dari primata nonmanusia sekitar 2 juta tahun yang lalu. Perkembangan otak yang berkembang dan kemampuan menggunakan perkakas menjadi ciri penting dalam evolusi manusia.\\n- Perkembangan teknologi: Manusia dikenal karena kemampuannya dalam menciptakan alat dan teknologi yang kompleks. Hal ini membantu mereka dalam menghadapi berbagai tantangan dan mempengaruhi cara mereka hidup.\\n\\nSecara keseluruhan, manusia (Homo sapiens) adalah organisme mamalia yang unik dengan ciri-ciri khas seperti postur tegak, otak yang berkembang, kemampuan berkomunikasi, kehidupan sosial yang kompleks, dan kemampuan untuk beradaptasi dengan berbagai habitat.'"
      ]
     },
     "execution_count": 5,
     "metadata": {},
     "output_type": "execute_result"
    }
   ],
   "source": [
    "data_organism.iloc[0].description"
   ]
  },
  {
   "cell_type": "code",
   "execution_count": null,
   "metadata": {},
   "outputs": [],
   "source": []
  }
 ],
 "metadata": {
  "kernelspec": {
   "display_name": "Python 3",
   "language": "python",
   "name": "python3"
  },
  "language_info": {
   "codemirror_mode": {
    "name": "ipython",
    "version": 3
   },
   "file_extension": ".py",
   "mimetype": "text/x-python",
   "name": "python",
   "nbconvert_exporter": "python",
   "pygments_lexer": "ipython3",
   "version": "3.8.10"
  }
 },
 "nbformat": 4,
 "nbformat_minor": 2
}
