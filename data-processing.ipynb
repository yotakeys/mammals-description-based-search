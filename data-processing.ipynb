{
 "cells": [
  {
   "cell_type": "code",
   "execution_count": 1,
   "metadata": {},
   "outputs": [],
   "source": [
    "import pandas as pd\n",
    "import os\n",
    "from tqdm import tqdm\n",
    "import re\n",
    "\n",
    "tqdm.pandas()"
   ]
  },
  {
   "cell_type": "code",
   "execution_count": 2,
   "metadata": {},
   "outputs": [],
   "source": [
    "RAW_DATA_PATH = os.path.join(\"data\", \"raw\")\n",
    "PROCESSED_DATA_PATH = os.path.join(\"data\", \"processed\")"
   ]
  },
  {
   "cell_type": "code",
   "execution_count": 3,
   "metadata": {},
   "outputs": [],
   "source": [
    "data_organism = pd.read_csv(os.path.join(RAW_DATA_PATH, \"data_mammals_desc.csv\"))"
   ]
  },
  {
   "cell_type": "code",
   "execution_count": 4,
   "metadata": {},
   "outputs": [
    {
     "data": {
      "text/html": [
       "<div>\n",
       "<style scoped>\n",
       "    .dataframe tbody tr th:only-of-type {\n",
       "        vertical-align: middle;\n",
       "    }\n",
       "\n",
       "    .dataframe tbody tr th {\n",
       "        vertical-align: top;\n",
       "    }\n",
       "\n",
       "    .dataframe thead th {\n",
       "        text-align: right;\n",
       "    }\n",
       "</style>\n",
       "<table border=\"1\" class=\"dataframe\">\n",
       "  <thead>\n",
       "    <tr style=\"text-align: right;\">\n",
       "      <th></th>\n",
       "      <th>organism_name</th>\n",
       "      <th>common_name</th>\n",
       "      <th>description</th>\n",
       "    </tr>\n",
       "  </thead>\n",
       "  <tbody>\n",
       "    <tr>\n",
       "      <th>0</th>\n",
       "      <td>Homo sapiens</td>\n",
       "      <td>human</td>\n",
       "      <td>Homo sapiens, also known as modern humans, are...</td>\n",
       "    </tr>\n",
       "    <tr>\n",
       "      <th>1</th>\n",
       "      <td>Mus musculus</td>\n",
       "      <td>house mouse</td>\n",
       "      <td>Mus musculus, commonly known as the house mous...</td>\n",
       "    </tr>\n",
       "    <tr>\n",
       "      <th>2</th>\n",
       "      <td>Bubalus bubalis</td>\n",
       "      <td>water buffalo</td>\n",
       "      <td>The Bubalus bubalis, commonly known as the Wat...</td>\n",
       "    </tr>\n",
       "    <tr>\n",
       "      <th>3</th>\n",
       "      <td>Ovis ammon polii x Ovis aries</td>\n",
       "      <td>NaN</td>\n",
       "      <td>The array \"Ovis ammon polii x Ovis aries\" refe...</td>\n",
       "    </tr>\n",
       "    <tr>\n",
       "      <th>4</th>\n",
       "      <td>Capricornis sumatraensis</td>\n",
       "      <td>Sumatran serow</td>\n",
       "      <td>Capricornis sumatraensis, commonly known as th...</td>\n",
       "    </tr>\n",
       "    <tr>\n",
       "      <th>...</th>\n",
       "      <td>...</td>\n",
       "      <td>...</td>\n",
       "      <td>...</td>\n",
       "    </tr>\n",
       "    <tr>\n",
       "      <th>818</th>\n",
       "      <td>Sminthopsis hirtipes</td>\n",
       "      <td>hairy-footed dunnart</td>\n",
       "      <td>Sminthopsis hirtipes, commonly known as the ha...</td>\n",
       "    </tr>\n",
       "    <tr>\n",
       "      <th>819</th>\n",
       "      <td>Bettongia gaimardi</td>\n",
       "      <td>Tasmanian bettong</td>\n",
       "      <td>Bettongia gaimardi, commonly known as the East...</td>\n",
       "    </tr>\n",
       "    <tr>\n",
       "      <th>820</th>\n",
       "      <td>Caluromys derbianus</td>\n",
       "      <td>Derby's woolly opossum</td>\n",
       "      <td>Caluromys derbianus, commonly known as Derby's...</td>\n",
       "    </tr>\n",
       "    <tr>\n",
       "      <th>821</th>\n",
       "      <td>Potorous longipes</td>\n",
       "      <td>long-footed potoroo</td>\n",
       "      <td>Potorous longipes, commonly known as the Long-...</td>\n",
       "    </tr>\n",
       "    <tr>\n",
       "      <th>822</th>\n",
       "      <td>Parantechinus apicalis</td>\n",
       "      <td>southern dibbler</td>\n",
       "      <td>Parantechinus apicalis is a species of mammal ...</td>\n",
       "    </tr>\n",
       "  </tbody>\n",
       "</table>\n",
       "<p>823 rows × 3 columns</p>\n",
       "</div>"
      ],
      "text/plain": [
       "                     organism_name             common_name  \\\n",
       "0                     Homo sapiens                   human   \n",
       "1                     Mus musculus             house mouse   \n",
       "2                  Bubalus bubalis           water buffalo   \n",
       "3    Ovis ammon polii x Ovis aries                     NaN   \n",
       "4         Capricornis sumatraensis          Sumatran serow   \n",
       "..                             ...                     ...   \n",
       "818           Sminthopsis hirtipes    hairy-footed dunnart   \n",
       "819             Bettongia gaimardi       Tasmanian bettong   \n",
       "820            Caluromys derbianus  Derby's woolly opossum   \n",
       "821              Potorous longipes     long-footed potoroo   \n",
       "822         Parantechinus apicalis        southern dibbler   \n",
       "\n",
       "                                           description  \n",
       "0    Homo sapiens, also known as modern humans, are...  \n",
       "1    Mus musculus, commonly known as the house mous...  \n",
       "2    The Bubalus bubalis, commonly known as the Wat...  \n",
       "3    The array \"Ovis ammon polii x Ovis aries\" refe...  \n",
       "4    Capricornis sumatraensis, commonly known as th...  \n",
       "..                                                 ...  \n",
       "818  Sminthopsis hirtipes, commonly known as the ha...  \n",
       "819  Bettongia gaimardi, commonly known as the East...  \n",
       "820  Caluromys derbianus, commonly known as Derby's...  \n",
       "821  Potorous longipes, commonly known as the Long-...  \n",
       "822  Parantechinus apicalis is a species of mammal ...  \n",
       "\n",
       "[823 rows x 3 columns]"
      ]
     },
     "execution_count": 4,
     "metadata": {},
     "output_type": "execute_result"
    }
   ],
   "source": [
    "data_organism"
   ]
  },
  {
   "cell_type": "code",
   "execution_count": 5,
   "metadata": {},
   "outputs": [
    {
     "data": {
      "text/plain": [
       "'Homo sapiens, also known as modern humans, are the species to which all existing human beings belong. The history of Homo sapiens dates back approximately 300,000 years ago when the species first emerged in Africa. Over time, Homo sapiens gradually evolved and spread across the world, eventually populating every continent.\\n\\nCharacteristically, Homo sapiens are unique among other species due to their highly developed cognitive abilities, complex language skills, and advanced tool-making capabilities. They possess a bipedal stance, which means they walk on two legs, freeing their hands to engage in various activities. This upright posture also enables them to have a wider field of vision compared to many other animals.\\n\\nOne of the most distinguishing features of Homo sapiens is their intricate social structure. Humans exhibit strong social bonds and form complex societies that vary in cultural practices, beliefs, languages, and traditions. This versatility has allowed Homo sapiens to thrive in diverse environments and adapt to various climates and landscapes.\\n\\nHabitat-wise, Homo sapiens have demonstrated their adaptability by inhabiting a variety of environments. From tropical rainforests to arid deserts, icy tundras to dense urban cities, humans have established settlements in nearly every kind of terrain on Earth. This adaptability is one of the key reasons behind the success of Homo sapiens as a species.\\n\\nThe current population of Homo sapiens is estimated to be around 7.9 billion people and counting. This exponential growth can be attributed to several factors, such as improved healthcare, technological advancements, and the ability to cultivate and produce abundant food supplies. However, this rapid population expansion has also led to challenges related to resource distribution, sustainability, and environmental impact.\\n\\nIn addition to these general characteristics, Homo sapiens possess many specific attributes that contribute to their uniqueness. Humans have a highly developed brain that enables complex cognitive functions such as problem-solving, critical thinking, and creativity. They display a wide range of emotions and are capable of showing empathy towards others.\\n\\nHomo sapiens have also made significant advancements in science, technology, and artistic expression. They have built remarkable structures, created exquisite artwork, developed sophisticated systems of governance, and made remarkable discoveries about the world and the universe.\\n\\nOverall, Homo sapiens are not only a dominant species due to their physical and intellectual capabilities, but also because of their ability to adapt, learn, and create. While humans have undoubtedly achieved remarkable feats, they also face numerous challenges in terms of maintaining a sustainable future for both themselves and the planet they inhabit.'"
      ]
     },
     "execution_count": 5,
     "metadata": {},
     "output_type": "execute_result"
    }
   ],
   "source": [
    "data_organism.iloc[0].description"
   ]
  },
  {
   "cell_type": "code",
   "execution_count": 6,
   "metadata": {},
   "outputs": [
    {
     "name": "stderr",
     "output_type": "stream",
     "text": [
      "100%|██████████| 823/823 [00:00<00:00, 10167.16it/s]\n"
     ]
    }
   ],
   "source": [
    "def clean_description(row):\n",
    "    description = row['description']\n",
    "    description = description.replace('\\n', ' ')\n",
    "    description = description.replace(':', ',')\n",
    "    description = description.replace('-', '')\n",
    "    description = re.sub(r'\\S+\\.', '', description)\n",
    "    \n",
    "    return description\n",
    "\n",
    "data_organism['description'] = data_organism.progress_apply(clean_description, axis=1)"
   ]
  },
  {
   "cell_type": "code",
   "execution_count": 7,
   "metadata": {},
   "outputs": [
    {
     "data": {
      "text/plain": [
       "'Homo sapiens, also known as modern humans, are the species to which all existing human beings  The history of Homo sapiens dates back approximately 300,000 years ago when the species first emerged in  Over time, Homo sapiens gradually evolved and spread across the world, eventually populating every   Characteristically, Homo sapiens are unique among other species due to their highly developed cognitive abilities, complex language skills, and advanced toolmaking  They possess a bipedal stance, which means they walk on two legs, freeing their hands to engage in various  This upright posture also enables them to have a wider field of vision compared to many other   One of the most distinguishing features of Homo sapiens is their intricate social  Humans exhibit strong social bonds and form complex societies that vary in cultural practices, beliefs, languages, and  This versatility has allowed Homo sapiens to thrive in diverse environments and adapt to various climates and   Habitatwise, Homo sapiens have demonstrated their adaptability by inhabiting a variety of  From tropical rainforests to arid deserts, icy tundras to dense urban cities, humans have established settlements in nearly every kind of terrain on  This adaptability is one of the key reasons behind the success of Homo sapiens as a   The current population of Homo sapiens is estimated to be around 9 billion people and  This exponential growth can be attributed to several factors, such as improved healthcare, technological advancements, and the ability to cultivate and produce abundant food  However, this rapid population expansion has also led to challenges related to resource distribution, sustainability, and environmental   In addition to these general characteristics, Homo sapiens possess many specific attributes that contribute to their  Humans have a highly developed brain that enables complex cognitive functions such as problemsolving, critical thinking, and  They display a wide range of emotions and are capable of showing empathy towards   Homo sapiens have also made significant advancements in science, technology, and artistic  They have built remarkable structures, created exquisite artwork, developed sophisticated systems of governance, and made remarkable discoveries about the world and the   Overall, Homo sapiens are not only a dominant species due to their physical and intellectual capabilities, but also because of their ability to adapt, learn, and  While humans have undoubtedly achieved remarkable feats, they also face numerous challenges in terms of maintaining a sustainable future for both themselves and the planet they '"
      ]
     },
     "execution_count": 7,
     "metadata": {},
     "output_type": "execute_result"
    }
   ],
   "source": [
    "data_organism.iloc[0].description"
   ]
  },
  {
   "cell_type": "code",
   "execution_count": 8,
   "metadata": {},
   "outputs": [],
   "source": [
    "data = data_organism[[\"organism_name\", \"description\"]]"
   ]
  },
  {
   "cell_type": "code",
   "execution_count": 9,
   "metadata": {},
   "outputs": [
    {
     "data": {
      "text/html": [
       "<div>\n",
       "<style scoped>\n",
       "    .dataframe tbody tr th:only-of-type {\n",
       "        vertical-align: middle;\n",
       "    }\n",
       "\n",
       "    .dataframe tbody tr th {\n",
       "        vertical-align: top;\n",
       "    }\n",
       "\n",
       "    .dataframe thead th {\n",
       "        text-align: right;\n",
       "    }\n",
       "</style>\n",
       "<table border=\"1\" class=\"dataframe\">\n",
       "  <thead>\n",
       "    <tr style=\"text-align: right;\">\n",
       "      <th></th>\n",
       "      <th>organism_name</th>\n",
       "      <th>description</th>\n",
       "    </tr>\n",
       "  </thead>\n",
       "  <tbody>\n",
       "    <tr>\n",
       "      <th>0</th>\n",
       "      <td>Homo sapiens</td>\n",
       "      <td>Homo sapiens, also known as modern humans, are...</td>\n",
       "    </tr>\n",
       "    <tr>\n",
       "      <th>1</th>\n",
       "      <td>Mus musculus</td>\n",
       "      <td>Mus musculus, commonly known as the house mous...</td>\n",
       "    </tr>\n",
       "    <tr>\n",
       "      <th>2</th>\n",
       "      <td>Bubalus bubalis</td>\n",
       "      <td>The Bubalus bubalis, commonly known as the Wat...</td>\n",
       "    </tr>\n",
       "    <tr>\n",
       "      <th>3</th>\n",
       "      <td>Ovis ammon polii x Ovis aries</td>\n",
       "      <td>The array \"Ovis ammon polii x Ovis aries\" refe...</td>\n",
       "    </tr>\n",
       "    <tr>\n",
       "      <th>4</th>\n",
       "      <td>Capricornis sumatraensis</td>\n",
       "      <td>Capricornis sumatraensis, commonly known as th...</td>\n",
       "    </tr>\n",
       "    <tr>\n",
       "      <th>...</th>\n",
       "      <td>...</td>\n",
       "      <td>...</td>\n",
       "    </tr>\n",
       "    <tr>\n",
       "      <th>818</th>\n",
       "      <td>Sminthopsis hirtipes</td>\n",
       "      <td>Sminthopsis hirtipes, commonly known as the ha...</td>\n",
       "    </tr>\n",
       "    <tr>\n",
       "      <th>819</th>\n",
       "      <td>Bettongia gaimardi</td>\n",
       "      <td>Bettongia gaimardi, commonly known as the East...</td>\n",
       "    </tr>\n",
       "    <tr>\n",
       "      <th>820</th>\n",
       "      <td>Caluromys derbianus</td>\n",
       "      <td>Caluromys derbianus, commonly known as Derby's...</td>\n",
       "    </tr>\n",
       "    <tr>\n",
       "      <th>821</th>\n",
       "      <td>Potorous longipes</td>\n",
       "      <td>Potorous longipes, commonly known as the Longf...</td>\n",
       "    </tr>\n",
       "    <tr>\n",
       "      <th>822</th>\n",
       "      <td>Parantechinus apicalis</td>\n",
       "      <td>Parantechinus apicalis is a species of mammal ...</td>\n",
       "    </tr>\n",
       "  </tbody>\n",
       "</table>\n",
       "<p>823 rows × 2 columns</p>\n",
       "</div>"
      ],
      "text/plain": [
       "                     organism_name  \\\n",
       "0                     Homo sapiens   \n",
       "1                     Mus musculus   \n",
       "2                  Bubalus bubalis   \n",
       "3    Ovis ammon polii x Ovis aries   \n",
       "4         Capricornis sumatraensis   \n",
       "..                             ...   \n",
       "818           Sminthopsis hirtipes   \n",
       "819             Bettongia gaimardi   \n",
       "820            Caluromys derbianus   \n",
       "821              Potorous longipes   \n",
       "822         Parantechinus apicalis   \n",
       "\n",
       "                                           description  \n",
       "0    Homo sapiens, also known as modern humans, are...  \n",
       "1    Mus musculus, commonly known as the house mous...  \n",
       "2    The Bubalus bubalis, commonly known as the Wat...  \n",
       "3    The array \"Ovis ammon polii x Ovis aries\" refe...  \n",
       "4    Capricornis sumatraensis, commonly known as th...  \n",
       "..                                                 ...  \n",
       "818  Sminthopsis hirtipes, commonly known as the ha...  \n",
       "819  Bettongia gaimardi, commonly known as the East...  \n",
       "820  Caluromys derbianus, commonly known as Derby's...  \n",
       "821  Potorous longipes, commonly known as the Longf...  \n",
       "822  Parantechinus apicalis is a species of mammal ...  \n",
       "\n",
       "[823 rows x 2 columns]"
      ]
     },
     "execution_count": 9,
     "metadata": {},
     "output_type": "execute_result"
    }
   ],
   "source": [
    "data"
   ]
  },
  {
   "cell_type": "code",
   "execution_count": 10,
   "metadata": {},
   "outputs": [
    {
     "name": "stdout",
     "output_type": "stream",
     "text": [
      "Max char : 3829\n",
      "Max word : 620\n"
     ]
    }
   ],
   "source": [
    "data_length = len(data)\n",
    "max_char = 0\n",
    "max_word = 0\n",
    "\n",
    "\n",
    "for idx in range(data_length):\n",
    "    row = data.iloc[idx]\n",
    "    description = row['description']\n",
    "    char = len(description)\n",
    "    word = len(description.split(' '))\n",
    "    \n",
    "    if char > max_char:\n",
    "        max_char = char\n",
    "    if word > max_word:\n",
    "        max_word = word\n",
    "\n",
    "print(\"Max char : {max_char}\\nMax word : {max_word}\".format(max_char=max_char, max_word=max_word))    \n",
    "    \n",
    "    "
   ]
  },
  {
   "cell_type": "code",
   "execution_count": 11,
   "metadata": {},
   "outputs": [],
   "source": [
    "data.to_csv(os.path.join(PROCESSED_DATA_PATH, \"data.csv\"), index=False)"
   ]
  }
 ],
 "metadata": {
  "kernelspec": {
   "display_name": "Python 3",
   "language": "python",
   "name": "python3"
  },
  "language_info": {
   "codemirror_mode": {
    "name": "ipython",
    "version": 3
   },
   "file_extension": ".py",
   "mimetype": "text/x-python",
   "name": "python",
   "nbconvert_exporter": "python",
   "pygments_lexer": "ipython3",
   "version": "3.11.3"
  }
 },
 "nbformat": 4,
 "nbformat_minor": 2
}
